{
 "cells": [
  {
   "cell_type": "markdown",
   "id": "6a77ab46-faca-4bd7-a8c0-a5a5619ff594",
   "metadata": {},
   "source": [
    "# Python DOCX Library\n",
    "\n",
    "## Opening a document\n",
    "\n",
    "[Source](https://python-docx.readthedocs.io/en/latest/user/quickstart.html)\n",
    "\n",
    "First thing you’ll need is a document to work on. The easiest way is this:"
   ]
  },
  {
   "cell_type": "code",
   "execution_count": 1,
   "id": "53409f25-f123-4020-bf7d-0f4508467c78",
   "metadata": {},
   "outputs": [],
   "source": [
    "from docx import Document\n",
    "\n",
    "document = Document()"
   ]
  },
  {
   "cell_type": "markdown",
   "id": "5424a43d-bba0-4251-b69f-90e8ab79dd37",
   "metadata": {},
   "source": [
    "This opens up a blank document based on the default “template”, pretty much what you get when you start a new document in Word using the built-in defaults. You can open and work on an existing Word document using python-docx, but we’ll keep things simple for the moment."
   ]
  },
  {
   "cell_type": "markdown",
   "id": "8ccdc9c0-1a31-47ad-963d-e00219987421",
   "metadata": {},
   "source": [
    "### Adding a paragraph\n",
    "\n",
    "Paragraphs are fundamental in Word. They’re used for body text, but also for headings and list items like bullets.\n",
    "\n",
    "Here’s the simplest way to add one:"
   ]
  },
  {
   "cell_type": "code",
   "execution_count": 2,
   "id": "295bb1b0-3653-43b7-ab80-f90f1ae4456b",
   "metadata": {},
   "outputs": [],
   "source": [
    "paragraph = document.add_paragraph('Lorem ipsum dolor sit amet.')"
   ]
  },
  {
   "cell_type": "markdown",
   "id": "161adcca-8a8b-4873-8220-59312ef1681b",
   "metadata": {},
   "source": [
    "This method returns a reference to a paragraph, newly added paragraph at the end of the document.\n",
    "\n",
    "It’s also possible to use one paragraph as a “cursor” and insert a new paragraph directly above it:"
   ]
  },
  {
   "cell_type": "code",
   "execution_count": 5,
   "id": "416ca8df-5758-470b-ae7c-ab0c32f942b2",
   "metadata": {},
   "outputs": [],
   "source": [
    "prior_paragraph = paragraph.insert_paragraph_before('Lorem ipsum')"
   ]
  },
  {
   "cell_type": "markdown",
   "id": "90b4f5b4-f1d4-4109-a4e5-b1924e709196",
   "metadata": {},
   "source": [
    "This allows a paragraph to be inserted in the middle of a document, something that’s often important when modifying an existing document rather than generating one from scratch."
   ]
  },
  {
   "cell_type": "markdown",
   "id": "074a36f6-d561-419a-8cb1-2a12ae463d09",
   "metadata": {},
   "source": [
    "### Adding a heading\n",
    "\n",
    "In anything but the shortest document, body text is divided into sections, each of which starts with a heading. Here’s how to add one:"
   ]
  },
  {
   "cell_type": "code",
   "execution_count": 6,
   "id": "25a6dce5-a6a4-440f-9a11-46f97b0ce9fa",
   "metadata": {},
   "outputs": [
    {
     "data": {
      "text/plain": [
       "<docx.text.paragraph.Paragraph at 0x7fd36cc68dc0>"
      ]
     },
     "execution_count": 6,
     "metadata": {},
     "output_type": "execute_result"
    }
   ],
   "source": [
    "document.add_heading('The REAL meaning of the universe')"
   ]
  },
  {
   "cell_type": "markdown",
   "id": "8730027a-986b-4108-9c94-d75f101a1916",
   "metadata": {},
   "source": [
    "By default, this adds a top-level heading, what appears in Word as ‘Heading 1’. When you want a heading for a sub-section, just specify the level you want as an integer between 1 and 9:"
   ]
  },
  {
   "cell_type": "code",
   "execution_count": 7,
   "id": "f3765fe6-85d2-47e7-bfb7-6c5228a3b620",
   "metadata": {},
   "outputs": [
    {
     "data": {
      "text/plain": [
       "<docx.text.paragraph.Paragraph at 0x7fd36d2dd5b0>"
      ]
     },
     "execution_count": 7,
     "metadata": {},
     "output_type": "execute_result"
    }
   ],
   "source": [
    "document.add_heading('The role of dolphins', level=2)"
   ]
  },
  {
   "cell_type": "markdown",
   "id": "8f4bbde5-5ca5-4836-bef0-1542dd788703",
   "metadata": {},
   "source": [
    "If you specify a level of 0, a “Title” paragraph is added. This can be handy to start a relatively short document that doesn’t have a separate title page."
   ]
  },
  {
   "cell_type": "markdown",
   "id": "00b9bd47-80ef-41cc-b9c3-7765611df4f9",
   "metadata": {},
   "source": [
    "### Adding a page break\n",
    "\n",
    "Every once in a while you want the text that comes next to go on a separate page, even if the one you’re on isn’t full. A “hard” page break gets this done:"
   ]
  },
  {
   "cell_type": "code",
   "execution_count": 8,
   "id": "8ec53f54-e643-4e0d-8c57-b893b2b04d5d",
   "metadata": {},
   "outputs": [
    {
     "data": {
      "text/plain": [
       "<docx.text.paragraph.Paragraph at 0x7fd36d2dd790>"
      ]
     },
     "execution_count": 8,
     "metadata": {},
     "output_type": "execute_result"
    }
   ],
   "source": [
    "document.add_page_break()"
   ]
  },
  {
   "cell_type": "markdown",
   "id": "c020e29b-b772-417b-9735-8865a13f01e9",
   "metadata": {},
   "source": [
    "### Adding a table\n",
    "\n",
    "One frequently encounters content that lends itself to tabular presentation, lined up in neat rows and columns. Word does a pretty good job at this. Here’s how to add a table:"
   ]
  },
  {
   "cell_type": "code",
   "execution_count": 9,
   "id": "64cf930b-383f-4ad9-bc2d-c21671b217b7",
   "metadata": {},
   "outputs": [],
   "source": [
    "table = document.add_table(rows=2, cols=2)"
   ]
  },
  {
   "cell_type": "markdown",
   "id": "fa2b7d7c-707b-4113-814c-6c8acaeba5e0",
   "metadata": {},
   "source": [
    "**Tables have several properties and methods you’ll need in order to populate them. Accessing individual cells is probably a good place to start. As a baseline, you can always access a cell by its row and column indicies:**"
   ]
  },
  {
   "cell_type": "code",
   "execution_count": 10,
   "id": "39e51fd5-a2fa-4346-aeaa-63935ef79d05",
   "metadata": {},
   "outputs": [],
   "source": [
    "cell = table.cell(0, 1)"
   ]
  },
  {
   "cell_type": "markdown",
   "id": "9bee8568-74a0-4572-ba1b-f747d586719e",
   "metadata": {},
   "source": [
    "**This gives you the right-hand cell in the top row of the table we just created. Note that row and column indicies are zero-based, just like in list access.**\n",
    "\n",
    "**Once you have a cell, you can put something in it:**"
   ]
  },
  {
   "cell_type": "code",
   "execution_count": 11,
   "id": "f3ea6cfb-9b47-4698-96e2-8047796243e1",
   "metadata": {},
   "outputs": [],
   "source": [
    "cell.text = 'parrot, possibly dead'"
   ]
  },
  {
   "cell_type": "markdown",
   "id": "cff5cbd8-ef02-4b84-8ef8-c4abe522392f",
   "metadata": {},
   "source": [
    "**Frequently it’s easier to access a row of cells at a time, for example when populating a table of variable length from a data source. The .rows property of a table provides access to individual rows, each of which has a .cells property. The .cells property on both Row and Column supports indexed access, like a list:**"
   ]
  },
  {
   "cell_type": "code",
   "execution_count": 12,
   "id": "6308de98-a204-4f27-b4b0-2c458d78f826",
   "metadata": {},
   "outputs": [],
   "source": [
    "row = table.rows[1]\n",
    "row.cells[0].text = 'Foo bar to you.'\n",
    "row.cells[1].text = 'And a hearty foo bar to you too sir!'"
   ]
  },
  {
   "cell_type": "markdown",
   "id": "a6381d12-f4c3-4054-a1f8-b82fb0355f26",
   "metadata": {},
   "source": [
    "**The .rows and .columns collections on a table are iterable, so you can use them directly in a for loop. Same with the .cells sequences on a row or column:**"
   ]
  },
  {
   "cell_type": "code",
   "execution_count": 13,
   "id": "7d1a35cc-b248-4b24-b8e9-dff98f563288",
   "metadata": {},
   "outputs": [
    {
     "name": "stdout",
     "output_type": "stream",
     "text": [
      "\n",
      "parrot, possibly dead\n",
      "Foo bar to you.\n",
      "And a hearty foo bar to you too sir!\n"
     ]
    }
   ],
   "source": [
    "for row in table.rows:\n",
    "    for cell in row.cells:\n",
    "        print(cell.text)"
   ]
  },
  {
   "cell_type": "markdown",
   "id": "35d0aef1-86ef-49b8-ac3c-6b0d2c931280",
   "metadata": {},
   "source": [
    "If you want a count of the rows or columns in the table, just use len() on the sequence:"
   ]
  },
  {
   "cell_type": "code",
   "execution_count": 14,
   "id": "b8458b38-a6dd-4ead-a8e4-13bab626c343",
   "metadata": {},
   "outputs": [],
   "source": [
    "row_count = len(table.rows)\n",
    "col_count = len(table.columns)"
   ]
  },
  {
   "cell_type": "markdown",
   "id": "1d451490-69ab-46f8-a765-c5cab6e56a13",
   "metadata": {},
   "source": [
    "You can also add rows to a table incrementally like so:"
   ]
  },
  {
   "cell_type": "code",
   "execution_count": 15,
   "id": "1acc8db6-f940-4e3e-b411-6612b278b35a",
   "metadata": {},
   "outputs": [],
   "source": [
    "row = table.add_row()"
   ]
  },
  {
   "cell_type": "markdown",
   "id": "d1a1c0ff-7d62-4741-9f05-1c56731a411e",
   "metadata": {},
   "source": [
    "This can be very handy for the variable length table scenario we mentioned above:"
   ]
  },
  {
   "cell_type": "code",
   "execution_count": 20,
   "id": "262d030e-1e7d-4286-8264-2554f411bf8b",
   "metadata": {},
   "outputs": [],
   "source": [
    "# get table data -------------\n",
    "records = (\n",
    "    (3, '101', 'Spam'),\n",
    "    (7, '422', 'Eggs'),\n",
    "    (4, '631', 'Spam, spam, eggs, and spam')\n",
    ")\n",
    "\n",
    "table = document.add_table(rows=1, cols=3)\n",
    "hdr_cells = table.rows[0].cells\n",
    "hdr_cells[0].text = 'Qty'\n",
    "hdr_cells[1].text = 'Id'\n",
    "hdr_cells[2].text = 'Desc'\n",
    "for qty, id, desc in records:\n",
    "    row_cells = table.add_row().cells\n",
    "    row_cells[0].text = str(qty)\n",
    "    row_cells[1].text = id\n",
    "    row_cells[2].text = desc"
   ]
  },
  {
   "cell_type": "markdown",
   "id": "b68bb2f9-9b74-4c89-9900-020105d5a27a",
   "metadata": {},
   "source": [
    "For adding table style, adding picture, Applying a paragraph style, applying bold and italic or Applying a character style see the continue of the [source](https://python-docx.readthedocs.io/en/latest/user/quickstart.html)"
   ]
  },
  {
   "cell_type": "markdown",
   "id": "97bc23c5-0e6f-4f05-b9fa-bc28b39fd336",
   "metadata": {},
   "source": [
    "### An example\n",
    "\n",
    "[Source](https://python-docx.readthedocs.io/en/latest/index.html#)\n"
   ]
  },
  {
   "cell_type": "code",
   "execution_count": 22,
   "id": "dfebf9a8-8cb3-4d3f-abf7-039f65e5e6d2",
   "metadata": {},
   "outputs": [],
   "source": [
    "from docx import Document\n",
    "from docx.shared import Inches\n",
    "\n",
    "document = Document()\n",
    "\n",
    "document.add_heading('Document Title', 0)\n",
    "\n",
    "p = document.add_paragraph('A plain paragraph having some ')\n",
    "p.add_run('bold').bold = True\n",
    "p.add_run(' and some ')\n",
    "p.add_run('italic.').italic = True\n",
    "\n",
    "document.add_heading('Heading, level 1', level=1)\n",
    "document.add_paragraph('Intense quote', style='Intense Quote')\n",
    "\n",
    "document.add_paragraph(\n",
    "    'first item in unordered list', style='List Bullet'\n",
    ")\n",
    "document.add_paragraph(\n",
    "    'first item in ordered list', style='List Number'\n",
    ")\n",
    "\n",
    "document.add_picture('1676405834584.jpeg', width=Inches(1.25))\n",
    "\n",
    "records = (\n",
    "    (3, '101', 'Spam'),\n",
    "    (7, '422', 'Eggs'),\n",
    "    (4, '631', 'Spam, spam, eggs, and spam')\n",
    ")\n",
    "\n",
    "table = document.add_table(rows=1, cols=3)\n",
    "hdr_cells = table.rows[0].cells\n",
    "hdr_cells[0].text = 'Qty'\n",
    "hdr_cells[1].text = 'Id'\n",
    "hdr_cells[2].text = 'Desc'\n",
    "for qty, id, desc in records:\n",
    "    row_cells = table.add_row().cells\n",
    "    row_cells[0].text = str(qty)\n",
    "    row_cells[1].text = id\n",
    "    row_cells[2].text = desc\n",
    "\n",
    "document.add_page_break()\n",
    "\n",
    "# document.save('demo.docx')"
   ]
  },
  {
   "cell_type": "markdown",
   "id": "67c6540e-1dec-4e89-930a-c0dd8f96ab78",
   "metadata": {},
   "source": [
    "## Working with Documents\n",
    "\n",
    "[SOURCE](https://python-docx.readthedocs.io/en/latest/user/documents.html)\n",
    "\n",
    "python-docx allows you to create new documents as well as make changes to existing ones. Actually, it only lets you make changes to existing documents; it’s just that if you start with a document that doesn’t have any content, it might feel at first like you’re creating one from scratch.\n",
    "\n",
    "This characteristic is a powerful one. A lot of how a document looks is determined by the parts that are left when you delete all the content. Things like styles and page headers and footers are contained separately from the main content, allowing you to place a good deal of customization in your starting document that then appears in the document you produce.\n",
    "\n",
    "Let’s walk through the steps to create a document one example at a time, starting with two of the main things you can do with a document, open it and save it."
   ]
  },
  {
   "cell_type": "markdown",
   "id": "cc91c68e-fc73-441e-ae3d-f8dfaa6848a4",
   "metadata": {},
   "source": [
    "### Opening a document\n",
    "\n",
    "The simplest way to get started is to open a new document without specifying a file to open:"
   ]
  },
  {
   "cell_type": "code",
   "execution_count": 23,
   "id": "7e6a26d4-fc4b-41cf-90e6-4c440f35b4de",
   "metadata": {},
   "outputs": [],
   "source": [
    "from docx import Document\n",
    "\n",
    "document = Document()\n",
    "document.save('test.docx')"
   ]
  },
  {
   "cell_type": "markdown",
   "id": "49463409-7c05-4466-a0e9-c6af9aabba31",
   "metadata": {},
   "source": [
    "This creates a new document from the built-in default template and saves it unchanged to a file named ‘test.docx’. The so-called “default template” is actually just a Word file having no content, stored with the installed python-docx package. It’s roughly the same as you get by picking the Word Document template after selecting Word’s File > New from Template… menu item."
   ]
  },
  {
   "cell_type": "markdown",
   "id": "6a3357a8-3854-43f2-bde8-107a370e0dcc",
   "metadata": {},
   "source": [
    "### REALLY opening a document\n",
    "\n",
    "If you want more control over the final document, or if you want to change an existing document, you need to open one with a filename:"
   ]
  },
  {
   "cell_type": "code",
   "execution_count": 24,
   "id": "b20a4312-766f-48be-ae40-3e6722a32275",
   "metadata": {},
   "outputs": [],
   "source": [
    "document = Document('NLP.docx')\n",
    "# "
   ]
  },
  {
   "cell_type": "code",
   "execution_count": 25,
   "id": "be3918e3-cb0b-4652-93fe-dc14ce2d3a51",
   "metadata": {},
   "outputs": [
    {
     "data": {
      "text/plain": [
       "<docx.document.Document at 0x7fd36e501d40>"
      ]
     },
     "execution_count": 25,
     "metadata": {},
     "output_type": "execute_result"
    }
   ],
   "source": [
    "document"
   ]
  },
  {
   "cell_type": "code",
   "execution_count": 26,
   "id": "53402633-730d-41ba-9bdb-cb5e5c5b94ec",
   "metadata": {},
   "outputs": [],
   "source": [
    "# save it as a different file\n",
    "document.save('new-file-name.docx')"
   ]
  },
  {
   "cell_type": "markdown",
   "id": "c84eb190-1961-4cc3-9e8d-911fdc0e7557",
   "metadata": {},
   "source": [
    "Things to note:\n",
    "\n",
    "You can open any Word 2007 or later file this way (.doc files from Word 2003 and earlier won’t work). While you might not be able to manipulate all the contents yet, whatever is already in there will load and save just fine. The feature set is still being built out, so you can’t add or change things like headers or footnotes yet, but if the document has them python-docx is polite enough to leave them alone and smart enough to save them without actually understanding what they are.\n",
    "If you use the same filename to open and save the file, python-docx will obediently overwrite the original file without a peep. You’ll want to make sure that’s what you intend.\n",
    "\n",
    "**Opening a ‘file-like’ document**\n",
    "\n",
    "python-docx can open a document from a so-called file-like object. It can also save to a file-like object. This can be handy when you want to get the source or target document over a network connection or from a database and don’t want to (or aren’t allowed to) interact with the file system. In practice this means you can pass an open file or StringIO/BytesIO stream object to open or save a document like so:"
   ]
  },
  {
   "cell_type": "raw",
   "id": "76357ed0-8631-4bc7-be1f-0445aa6ab7eb",
   "metadata": {},
   "source": [
    "f = open('foobar.docx', 'rb')\n",
    "document = Document(f)\n",
    "f.close()\n",
    "\n",
    "# or\n",
    "\n",
    "with open('foobar.docx', 'rb') as f:\n",
    "    source_stream = StringIO(f.read())\n",
    "document = Document(source_stream)\n",
    "source_stream.close()\n",
    "...\n",
    "target_stream = StringIO()\n",
    "document.save(target_stream)"
   ]
  },
  {
   "cell_type": "markdown",
   "id": "3a481cb3-7453-4f62-97c1-de567d45c740",
   "metadata": {},
   "source": [
    "The 'rb' file open mode parameter isn’t required on all operating systems. It defaults to 'r' which is enough sometimes, but the ‘b’ (selecting binary mode) is required on Windows and at least some versions of Linux to allow Zipfile to open the file."
   ]
  },
  {
   "cell_type": "markdown",
   "id": "9ffe1825-eae4-45dc-8375-499ffe6d30f2",
   "metadata": {},
   "source": [
    "## Working with text\n",
    "\n",
    "[For paragraph properties, indentation, bold, italic, margins, paragraph and line spacing and others](https://python-docx.readthedocs.io/en/latest/user/text.html)\n",
    "\n",
    "[Working with Sections](https://python-docx.readthedocs.io/en/latest/user/sections.html)\n",
    "\n",
    "[Working with Headers and Footers](https://python-docx.readthedocs.io/en/latest/user/hdrftr.html)\n",
    "\n",
    "[Understanding Styles](https://python-docx.readthedocs.io/en/latest/user/styles-understanding.html)\n",
    "\n",
    "[Working with styles](https://python-docx.readthedocs.io/en/latest/user/styles-using.html)\n",
    "\n",
    "[Official python docx documentation for all](https://python-docx.readthedocs.io/en/latest/index.html#)"
   ]
  },
  {
   "cell_type": "code",
   "execution_count": null,
   "id": "0a6834ba-b50d-4cf2-8771-dffc1fe2a497",
   "metadata": {},
   "outputs": [],
   "source": []
  }
 ],
 "metadata": {
  "kernelspec": {
   "display_name": "Python 3 (ipykernel)",
   "language": "python",
   "name": "python3"
  },
  "language_info": {
   "codemirror_mode": {
    "name": "ipython",
    "version": 3
   },
   "file_extension": ".py",
   "mimetype": "text/x-python",
   "name": "python",
   "nbconvert_exporter": "python",
   "pygments_lexer": "ipython3",
   "version": "3.9.12"
  }
 },
 "nbformat": 4,
 "nbformat_minor": 5
}
